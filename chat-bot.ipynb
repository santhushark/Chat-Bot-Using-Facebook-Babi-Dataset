{
 "cells": [
  {
   "cell_type": "code",
   "execution_count": 1,
   "id": "6877632d",
   "metadata": {},
   "outputs": [],
   "source": [
    "import pickle\n",
    "import numpy as np"
   ]
  },
  {
   "cell_type": "code",
   "execution_count": 2,
   "id": "d3a881a4",
   "metadata": {},
   "outputs": [],
   "source": [
    "with open('../Chat-bot-using-Babi-Dataset/Dataset/train_qa.txt', 'rb') as f:\n",
    "    train_data = pickle.load(f)"
   ]
  },
  {
   "cell_type": "code",
   "execution_count": 3,
   "id": "d8d7ef20",
   "metadata": {},
   "outputs": [],
   "source": [
    "with open('../Chat-bot-using-Babi-Dataset/Dataset/test_qa.txt', 'rb') as f:\n",
    "    test_data = pickle.load(f)"
   ]
  },
  {
   "cell_type": "markdown",
   "id": "2083a515",
   "metadata": {},
   "source": [
    "train_data and test_data is a list of datapoints for training and testing the model. It is basically a list of tuples. And each of the tuples hold again a list of story question and answer."
   ]
  },
  {
   "cell_type": "markdown",
   "id": "5783b32a",
   "metadata": {},
   "source": [
    "CREATING A VOCABULARY. Here we create a vocabulary using both training and test datasets."
   ]
  },
  {
   "cell_type": "code",
   "execution_count": 4,
   "id": "97a56681",
   "metadata": {},
   "outputs": [],
   "source": [
    "all_data = train_data + test_data\n",
    "\n",
    "vocab = set()\n",
    "\n",
    "for story, question, answer in all_data:\n",
    "    vocab = vocab.union(set(story))\n",
    "    vocab = vocab.union(set(question))\n",
    "\n",
    "vocab.add('no')\n",
    "vocab.add('yes')"
   ]
  },
  {
   "cell_type": "code",
   "execution_count": 6,
   "id": "fd4dee93",
   "metadata": {},
   "outputs": [],
   "source": [
    "# We need this little place holder for later when we create pad sequences\n",
    "vocab_len = len(vocab) + 1"
   ]
  },
  {
   "cell_type": "code",
   "execution_count": 8,
   "id": "bc89661c",
   "metadata": {},
   "outputs": [],
   "source": [
    "# Longest story, we need this for padding our sequences\n",
    "all_story_lens = [len(data[0]) for data in all_data]\n",
    "max_story_len = max(all_story_lens)"
   ]
  },
  {
   "cell_type": "code",
   "execution_count": 9,
   "id": "3236e38e",
   "metadata": {},
   "outputs": [],
   "source": [
    "# Longest question\n",
    "max_question_len = max([len(data[1]) for data in all_data])"
   ]
  },
  {
   "cell_type": "markdown",
   "id": "c04dd182",
   "metadata": {},
   "source": [
    "Vectorizing the data"
   ]
  },
  {
   "cell_type": "code",
   "execution_count": 13,
   "id": "d45d4474",
   "metadata": {},
   "outputs": [],
   "source": [
    "from keras.utils.data_utils import pad_sequences\n",
    "from keras.preprocessing.text import Tokenizer"
   ]
  },
  {
   "cell_type": "code",
   "execution_count": 16,
   "id": "c5d695b7",
   "metadata": {},
   "outputs": [
    {
     "data": {
      "text/plain": [
       "{'is': 1,\n",
       " 'daniel': 2,\n",
       " 'garden': 3,\n",
       " 'john': 4,\n",
       " 'milk': 5,\n",
       " 'bathroom': 6,\n",
       " 'hallway': 7,\n",
       " 'went': 8,\n",
       " 'grabbed': 9,\n",
       " 'yes': 10,\n",
       " 'left': 11,\n",
       " 'dropped': 12,\n",
       " 'the': 13,\n",
       " 'back': 14,\n",
       " 'kitchen': 15,\n",
       " 'picked': 16,\n",
       " 'journeyed': 17,\n",
       " 'up': 18,\n",
       " 'sandra': 19,\n",
       " 'took': 20,\n",
       " 'football': 21,\n",
       " '?': 22,\n",
       " 'down': 23,\n",
       " 'office': 24,\n",
       " 'to': 25,\n",
       " 'moved': 26,\n",
       " '.': 27,\n",
       " 'there': 28,\n",
       " 'no': 29,\n",
       " 'bedroom': 30,\n",
       " 'mary': 31,\n",
       " 'travelled': 32,\n",
       " 'got': 33,\n",
       " 'apple': 34,\n",
       " 'put': 35,\n",
       " 'in': 36,\n",
       " 'discarded': 37}"
      ]
     },
     "execution_count": 16,
     "metadata": {},
     "output_type": "execute_result"
    }
   ],
   "source": [
    "tokenizer = Tokenizer(filters=[])\n",
    "tokenizer.fit_on_texts(vocab)\n",
    "tokenizer.word_index"
   ]
  },
  {
   "cell_type": "code",
   "execution_count": 19,
   "id": "facd36bd",
   "metadata": {},
   "outputs": [],
   "source": [
    "def vectorize(data, word_index = tokenizer.word_index, max_story_len = max_story_len, max_question_len =max_question_len):\n",
    "    # Stories X\n",
    "    X = []\n",
    "    # Question Xq\n",
    "    Xq = []\n",
    "    # Y Correct Answer (yes/no)\n",
    "    Y= []\n",
    "    \n",
    "    for story, question, answer in data:\n",
    "        x = [word_index[word.lower()] for word in story]\n",
    "        xq = [word_index[word.lower()] for word in question]\n",
    "        \n",
    "        # +1 is reserved for padding\n",
    "        y = np.zeros(len(word_index)+1)\n",
    "        \n",
    "        y[word_index[answer]] = 1\n",
    "        \n",
    "        X.append(x)\n",
    "        Xq.append(xq)\n",
    "        Y.append(y)\n",
    "        \n",
    "    return (pad_sequences(X, maxlen = max_story_len), pad_sequences(Xq, maxlen = max_question_len), np.array(Y))"
   ]
  },
  {
   "cell_type": "code",
   "execution_count": 20,
   "id": "57f160a3",
   "metadata": {},
   "outputs": [],
   "source": [
    "input_train, question_train, answers_train = vectorize(train_data)\n",
    "input_test, question_test, answers_test = vectorize(test_data)"
   ]
  },
  {
   "cell_type": "code",
   "execution_count": 48,
   "id": "262c2ed0",
   "metadata": {},
   "outputs": [],
   "source": [
    "from keras.models import Sequential, Model\n",
    "from tensorflow.keras.layers import Embedding\n",
    "from keras.layers import Input, Activation, Dense, Permute, Dropout, add, dot, concatenate, LSTM"
   ]
  },
  {
   "cell_type": "code",
   "execution_count": 49,
   "id": "0e6954cd",
   "metadata": {},
   "outputs": [],
   "source": [
    "# PLACEHOLDER shape=(max_story_len, batch_size)\n",
    "input_sequence = Input((max_story_len,))\n",
    "question = Input((max_question_len,))"
   ]
  },
  {
   "cell_type": "code",
   "execution_count": 50,
   "id": "b72374c8",
   "metadata": {},
   "outputs": [],
   "source": [
    "# INPUT ENCODER M\n",
    "input_encoder_m = Sequential()\n",
    "input_encoder_m.add(Embedding(input_dim=vocab_len, output_dim=64))\n",
    "input_encoder_m.add(Dropout(0.3))\n",
    "\n",
    "# (samples, story_maxLen, embedding_dim)"
   ]
  },
  {
   "cell_type": "code",
   "execution_count": 51,
   "id": "f851a856",
   "metadata": {},
   "outputs": [],
   "source": [
    "# INPUT ENCODER C\n",
    "input_encoder_c = Sequential()\n",
    "input_encoder_c.add(Embedding(input_dim=vocab_len, output_dim=max_question_len))\n",
    "input_encoder_c.add(Dropout(0.3))\n",
    "\n",
    "# (samples, story_maxLen, max_question_len)"
   ]
  },
  {
   "cell_type": "code",
   "execution_count": 52,
   "id": "e64241b7",
   "metadata": {},
   "outputs": [],
   "source": [
    "question_encoder = Sequential()\n",
    "question_encoder.add(Embedding(input_dim=vocab_len, output_dim=64, input_length=max_question_len))\n",
    "question_encoder.add(Dropout(0.3))\n",
    "\n",
    "# (samples, question_maxLen, embedding_dim)"
   ]
  },
  {
   "cell_type": "code",
   "execution_count": 53,
   "id": "224d7b02",
   "metadata": {},
   "outputs": [],
   "source": [
    "# ENCODED <----- ENCODER(INPUT)\n",
    "input_encoded_m = input_encoder_m(input_sequence)\n",
    "input_encoded_c = input_encoder_c(input_sequence)\n",
    "question_encoded = question_encoder(question)"
   ]
  },
  {
   "cell_type": "code",
   "execution_count": 54,
   "id": "28dccb76",
   "metadata": {},
   "outputs": [],
   "source": [
    "match = dot([input_encoded_m, question_encoded], axes=(2,2))\n",
    "match = Activation('softmax')(match)"
   ]
  },
  {
   "cell_type": "code",
   "execution_count": 55,
   "id": "94c502e2",
   "metadata": {},
   "outputs": [],
   "source": [
    "response = add([match, input_encoded_c])\n",
    "response = Permute((2,1))(response)"
   ]
  },
  {
   "cell_type": "code",
   "execution_count": 56,
   "id": "09d673dc",
   "metadata": {},
   "outputs": [],
   "source": [
    "answer = concatenate([response, question_encoded])"
   ]
  },
  {
   "cell_type": "code",
   "execution_count": 57,
   "id": "b951f4f3",
   "metadata": {},
   "outputs": [
    {
     "data": {
      "text/plain": [
       "<KerasTensor: shape=(None, 6, 220) dtype=float32 (created by layer 'concatenate_1')>"
      ]
     },
     "execution_count": 57,
     "metadata": {},
     "output_type": "execute_result"
    }
   ],
   "source": [
    "answer"
   ]
  },
  {
   "cell_type": "code",
   "execution_count": 58,
   "id": "6a680285",
   "metadata": {},
   "outputs": [],
   "source": [
    "answer = LSTM(32)(answer)"
   ]
  },
  {
   "cell_type": "code",
   "execution_count": 59,
   "id": "d2cefc33",
   "metadata": {},
   "outputs": [],
   "source": [
    "answer = Dropout(0.5)(answer)\n",
    "answer = Dense(vocab_len)(answer) # (samples, vocab_size) # YES/NO"
   ]
  },
  {
   "cell_type": "code",
   "execution_count": 60,
   "id": "554bbaa0",
   "metadata": {},
   "outputs": [],
   "source": [
    "answer = Activation('softmax')(answer)"
   ]
  },
  {
   "cell_type": "code",
   "execution_count": 61,
   "id": "5fe669e3",
   "metadata": {},
   "outputs": [],
   "source": [
    "model = Model([input_sequence, question], answer)"
   ]
  },
  {
   "cell_type": "code",
   "execution_count": 62,
   "id": "523e1a9d",
   "metadata": {},
   "outputs": [],
   "source": [
    "model.compile(optimizer='rmsprop', loss='categorical_crossentropy', metrics=['accuracy'])"
   ]
  },
  {
   "cell_type": "code",
   "execution_count": 63,
   "id": "63073197",
   "metadata": {},
   "outputs": [
    {
     "name": "stdout",
     "output_type": "stream",
     "text": [
      "Model: \"model_2\"\n",
      "__________________________________________________________________________________________________\n",
      " Layer (type)                   Output Shape         Param #     Connected to                     \n",
      "==================================================================================================\n",
      " input_3 (InputLayer)           [(None, 156)]        0           []                               \n",
      "                                                                                                  \n",
      " input_4 (InputLayer)           [(None, 6)]          0           []                               \n",
      "                                                                                                  \n",
      " sequential_4 (Sequential)      (None, None, 64)     2432        ['input_3[0][0]']                \n",
      "                                                                                                  \n",
      " sequential_6 (Sequential)      (None, 6, 64)        2432        ['input_4[0][0]']                \n",
      "                                                                                                  \n",
      " dot_1 (Dot)                    (None, 156, 6)       0           ['sequential_4[0][0]',           \n",
      "                                                                  'sequential_6[0][0]']           \n",
      "                                                                                                  \n",
      " activation_2 (Activation)      (None, 156, 6)       0           ['dot_1[0][0]']                  \n",
      "                                                                                                  \n",
      " sequential_5 (Sequential)      (None, None, 6)      228         ['input_3[0][0]']                \n",
      "                                                                                                  \n",
      " add_1 (Add)                    (None, 156, 6)       0           ['activation_2[0][0]',           \n",
      "                                                                  'sequential_5[0][0]']           \n",
      "                                                                                                  \n",
      " permute_1 (Permute)            (None, 6, 156)       0           ['add_1[0][0]']                  \n",
      "                                                                                                  \n",
      " concatenate_1 (Concatenate)    (None, 6, 220)       0           ['permute_1[0][0]',              \n",
      "                                                                  'sequential_6[0][0]']           \n",
      "                                                                                                  \n",
      " lstm_1 (LSTM)                  (None, 32)           32384       ['concatenate_1[0][0]']          \n",
      "                                                                                                  \n",
      " dropout_7 (Dropout)            (None, 32)           0           ['lstm_1[0][0]']                 \n",
      "                                                                                                  \n",
      " dense_1 (Dense)                (None, 38)           1254        ['dropout_7[0][0]']              \n",
      "                                                                                                  \n",
      " activation_3 (Activation)      (None, 38)           0           ['dense_1[0][0]']                \n",
      "                                                                                                  \n",
      "==================================================================================================\n",
      "Total params: 38,730\n",
      "Trainable params: 38,730\n",
      "Non-trainable params: 0\n",
      "__________________________________________________________________________________________________\n"
     ]
    }
   ],
   "source": [
    "model.summary()"
   ]
  },
  {
   "cell_type": "code",
   "execution_count": null,
   "id": "65b53f2b",
   "metadata": {},
   "outputs": [],
   "source": []
  }
 ],
 "metadata": {
  "kernelspec": {
   "display_name": "Python 3 (ipykernel)",
   "language": "python",
   "name": "python3"
  },
  "language_info": {
   "codemirror_mode": {
    "name": "ipython",
    "version": 3
   },
   "file_extension": ".py",
   "mimetype": "text/x-python",
   "name": "python",
   "nbconvert_exporter": "python",
   "pygments_lexer": "ipython3",
   "version": "3.9.12"
  }
 },
 "nbformat": 4,
 "nbformat_minor": 5
}
