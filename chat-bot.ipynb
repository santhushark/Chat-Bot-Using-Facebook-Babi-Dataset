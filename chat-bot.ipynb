{
 "cells": [
  {
   "cell_type": "code",
   "execution_count": 1,
   "id": "0e8c5e3e",
   "metadata": {},
   "outputs": [],
   "source": [
    "import pickle\n",
    "import numpy as np"
   ]
  },
  {
   "cell_type": "code",
   "execution_count": 2,
   "id": "0b759882",
   "metadata": {},
   "outputs": [],
   "source": [
    "with open('../Chat-bot-using-Babi-Dataset/Dataset/train_qa.txt', 'rb') as f:\n",
    "    train_data = pickle.load(f)"
   ]
  },
  {
   "cell_type": "code",
   "execution_count": 3,
   "id": "75a41e41",
   "metadata": {},
   "outputs": [],
   "source": [
    "with open('../Chat-bot-using-Babi-Dataset/Dataset/test_qa.txt', 'rb') as f:\n",
    "    test_data = pickle.load(f)"
   ]
  },
  {
   "cell_type": "markdown",
   "id": "1ecd3711",
   "metadata": {},
   "source": [
    "train_data and test_data is a list of datapoints for training and testing the model. It is basically a list of tuples. And each of the tuples hold again a list of story question and answer."
   ]
  },
  {
   "cell_type": "markdown",
   "id": "5c51b4b3",
   "metadata": {},
   "source": [
    "CREATING A VOCABULARY. Here we create a vocabulary using both training and test datasets."
   ]
  },
  {
   "cell_type": "code",
   "execution_count": 4,
   "id": "d3b2db7a",
   "metadata": {},
   "outputs": [],
   "source": [
    "all_data = train_data + test_data\n",
    "\n",
    "vocab = set()\n",
    "\n",
    "for story, question, answer in all_data:\n",
    "    vocab = vocab.union(set(story))\n",
    "    vocab = vocab.union(set(question))\n",
    "\n",
    "vocab.add('no')\n",
    "vocab.add('yes')"
   ]
  },
  {
   "cell_type": "code",
   "execution_count": 6,
   "id": "e3a18c0f",
   "metadata": {},
   "outputs": [],
   "source": [
    "# We need this little place holder for later when we create pad sequences\n",
    "vocab_len = len(vocab) + 1"
   ]
  },
  {
   "cell_type": "code",
   "execution_count": 8,
   "id": "b81dd098",
   "metadata": {},
   "outputs": [],
   "source": [
    "# Longest story, we need this for padding our sequences\n",
    "all_story_lens = [len(data[0]) for data in all_data]\n",
    "max_story_len = max(all_story_lens)"
   ]
  },
  {
   "cell_type": "code",
   "execution_count": 9,
   "id": "e68776a9",
   "metadata": {},
   "outputs": [],
   "source": [
    "# Longest question\n",
    "max_question_len = max([len(data[1]) for data in all_data])"
   ]
  },
  {
   "cell_type": "markdown",
   "id": "d3b88833",
   "metadata": {},
   "source": [
    "Vectorizing the data"
   ]
  },
  {
   "cell_type": "code",
   "execution_count": null,
   "id": "37e3f012",
   "metadata": {},
   "outputs": [],
   "source": []
  }
 ],
 "metadata": {
  "kernelspec": {
   "display_name": "Python 3 (ipykernel)",
   "language": "python",
   "name": "python3"
  },
  "language_info": {
   "codemirror_mode": {
    "name": "ipython",
    "version": 3
   },
   "file_extension": ".py",
   "mimetype": "text/x-python",
   "name": "python",
   "nbconvert_exporter": "python",
   "pygments_lexer": "ipython3",
   "version": "3.9.12"
  }
 },
 "nbformat": 4,
 "nbformat_minor": 5
}
