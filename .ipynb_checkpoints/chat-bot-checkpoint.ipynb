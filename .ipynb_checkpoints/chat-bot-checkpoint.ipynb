{
 "cells": [
  {
   "cell_type": "code",
   "execution_count": 1,
   "id": "2e40de0c",
   "metadata": {},
   "outputs": [],
   "source": [
    "import pickle\n",
    "import numpy as np"
   ]
  },
  {
   "cell_type": "code",
   "execution_count": 2,
   "id": "0f6562a5",
   "metadata": {},
   "outputs": [],
   "source": [
    "with open('../Chat-bot-using-Babi-Dataset/Dataset/train_qa.txt', 'rb') as f:\n",
    "    train_data = pickle.load(f)"
   ]
  },
  {
   "cell_type": "code",
   "execution_count": 3,
   "id": "800f5e8f",
   "metadata": {},
   "outputs": [],
   "source": [
    "with open('../Chat-bot-using-Babi-Dataset/Dataset/test_qa.txt', 'rb') as f:\n",
    "    test_data = pickle.load(f)"
   ]
  },
  {
   "cell_type": "markdown",
   "id": "c130019c",
   "metadata": {},
   "source": [
    "train_data and test_data is a list of datapoints for training and testing the model. It is basically a list of tuples. And each of the tuples hold again a list of story question and answer."
   ]
  },
  {
   "cell_type": "markdown",
   "id": "62ea284d",
   "metadata": {},
   "source": [
    "CREATING A VOCABULARY. Here we create a vocabulary using both training and test datasets."
   ]
  },
  {
   "cell_type": "code",
   "execution_count": 4,
   "id": "6b7b3697",
   "metadata": {},
   "outputs": [],
   "source": [
    "all_data = train_data + test_data\n",
    "\n",
    "vocab = set()\n",
    "\n",
    "for story, question, answer in all_data:\n",
    "    vocab = vocab.union(set(story))\n",
    "    vocab = vocab.union(set(question))\n",
    "\n",
    "vocab.add('no')\n",
    "vocab.add('yes')"
   ]
  },
  {
   "cell_type": "code",
   "execution_count": 6,
   "id": "62522c8f",
   "metadata": {},
   "outputs": [],
   "source": [
    "# We need this little place holder for later when we create pad sequences\n",
    "vocab_len = len(vocab) + 1"
   ]
  },
  {
   "cell_type": "code",
   "execution_count": 8,
   "id": "c68b5442",
   "metadata": {},
   "outputs": [],
   "source": [
    "# Longest story, we need this for padding our sequences\n",
    "all_story_lens = [len(data[0]) for data in all_data]\n",
    "max_story_len = max(all_story_lens)"
   ]
  },
  {
   "cell_type": "code",
   "execution_count": 9,
   "id": "36c5d9e3",
   "metadata": {},
   "outputs": [],
   "source": [
    "# Longest question\n",
    "max_question_len = max([len(data[1]) for data in all_data])"
   ]
  },
  {
   "cell_type": "markdown",
   "id": "6d89b243",
   "metadata": {},
   "source": [
    "Vectorizing the data"
   ]
  },
  {
   "cell_type": "code",
   "execution_count": 13,
   "id": "40113276",
   "metadata": {},
   "outputs": [],
   "source": [
    "from keras.utils.data_utils import pad_sequences\n",
    "from keras.preprocessing.text import Tokenizer"
   ]
  },
  {
   "cell_type": "code",
   "execution_count": 16,
   "id": "2ecc8fc4",
   "metadata": {},
   "outputs": [
    {
     "data": {
      "text/plain": [
       "{'is': 1,\n",
       " 'daniel': 2,\n",
       " 'garden': 3,\n",
       " 'john': 4,\n",
       " 'milk': 5,\n",
       " 'bathroom': 6,\n",
       " 'hallway': 7,\n",
       " 'went': 8,\n",
       " 'grabbed': 9,\n",
       " 'yes': 10,\n",
       " 'left': 11,\n",
       " 'dropped': 12,\n",
       " 'the': 13,\n",
       " 'back': 14,\n",
       " 'kitchen': 15,\n",
       " 'picked': 16,\n",
       " 'journeyed': 17,\n",
       " 'up': 18,\n",
       " 'sandra': 19,\n",
       " 'took': 20,\n",
       " 'football': 21,\n",
       " '?': 22,\n",
       " 'down': 23,\n",
       " 'office': 24,\n",
       " 'to': 25,\n",
       " 'moved': 26,\n",
       " '.': 27,\n",
       " 'there': 28,\n",
       " 'no': 29,\n",
       " 'bedroom': 30,\n",
       " 'mary': 31,\n",
       " 'travelled': 32,\n",
       " 'got': 33,\n",
       " 'apple': 34,\n",
       " 'put': 35,\n",
       " 'in': 36,\n",
       " 'discarded': 37}"
      ]
     },
     "execution_count": 16,
     "metadata": {},
     "output_type": "execute_result"
    }
   ],
   "source": [
    "tokenizer = Tokenizer(filters=[])\n",
    "tokenizer.fit_on_texts(vocab)\n",
    "tokenizer.word_index"
   ]
  },
  {
   "cell_type": "code",
   "execution_count": 19,
   "id": "fccea3d4",
   "metadata": {},
   "outputs": [],
   "source": [
    "def vectorize(data, word_index = tokenizer.word_index, max_story_len = max_story_len, max_question_len =max_question_len):\n",
    "    # Stories X\n",
    "    X = []\n",
    "    # Question Xq\n",
    "    Xq = []\n",
    "    # Y Correct Answer (yes/no)\n",
    "    Y= []\n",
    "    \n",
    "    for story, question, answer in data:\n",
    "        x = [word_index[word.lower()] for word in story]\n",
    "        xq = [word_index[word.lower()] for word in question]\n",
    "        \n",
    "        # +1 is reserved for padding\n",
    "        y = np.zeros(len(word_index)+1)\n",
    "        \n",
    "        y[word_index[answer]] = 1\n",
    "        \n",
    "        X.append(x)\n",
    "        Xq.append(xq)\n",
    "        Y.append(y)\n",
    "        \n",
    "    return (pad_sequences(X, maxlen = max_story_len), pad_sequences(Xq, maxlen = max_question_len), np.array(Y))"
   ]
  },
  {
   "cell_type": "code",
   "execution_count": 20,
   "id": "b678e7de",
   "metadata": {},
   "outputs": [],
   "source": [
    "input_train, question_train, answers_train = vectorize(train_data)\n",
    "input_test, question_test, answers_test = vectorize(test_data)"
   ]
  },
  {
   "cell_type": "code",
   "execution_count": 48,
   "id": "559e72b0",
   "metadata": {},
   "outputs": [],
   "source": [
    "from keras.models import Sequential, Model\n",
    "from tensorflow.keras.layers import Embedding\n",
    "from keras.layers import Input, Activation, Dense, Permute, Dropout, add, dot, concatenate, LSTM"
   ]
  },
  {
   "cell_type": "code",
   "execution_count": 66,
   "id": "1546bfc5",
   "metadata": {},
   "outputs": [],
   "source": [
    "# PLACEHOLDER shape=(max_story_len, batch_size)\n",
    "input_sequence = Input((max_story_len,))\n",
    "question = Input((max_question_len,))"
   ]
  },
  {
   "cell_type": "code",
   "execution_count": 67,
   "id": "4e489646",
   "metadata": {},
   "outputs": [],
   "source": [
    "# INPUT ENCODER M\n",
    "input_encoder_m = Sequential()\n",
    "input_encoder_m.add(Embedding(input_dim=vocab_len, output_dim=64))\n",
    "input_encoder_m.add(Dropout(0.3))\n",
    "\n",
    "# (samples, story_maxLen, embedding_dim)"
   ]
  },
  {
   "cell_type": "code",
   "execution_count": 68,
   "id": "4c82d49c",
   "metadata": {},
   "outputs": [],
   "source": [
    "# INPUT ENCODER C\n",
    "input_encoder_c = Sequential()\n",
    "input_encoder_c.add(Embedding(input_dim=vocab_len, output_dim=max_question_len))\n",
    "input_encoder_c.add(Dropout(0.3))\n",
    "\n",
    "# (samples, story_maxLen, max_question_len)"
   ]
  },
  {
   "cell_type": "code",
   "execution_count": 69,
   "id": "56cd15fc",
   "metadata": {},
   "outputs": [],
   "source": [
    "question_encoder = Sequential()\n",
    "question_encoder.add(Embedding(input_dim=vocab_len, output_dim=64, input_length=max_question_len))\n",
    "question_encoder.add(Dropout(0.3))\n",
    "\n",
    "# (samples, question_maxLen, embedding_dim)"
   ]
  },
  {
   "cell_type": "code",
   "execution_count": 70,
   "id": "646cac49",
   "metadata": {},
   "outputs": [],
   "source": [
    "# ENCODED <----- ENCODER(INPUT)\n",
    "input_encoded_m = input_encoder_m(input_sequence)\n",
    "input_encoded_c = input_encoder_c(input_sequence)\n",
    "question_encoded = question_encoder(question)"
   ]
  },
  {
   "cell_type": "code",
   "execution_count": 71,
   "id": "ae969d61",
   "metadata": {},
   "outputs": [],
   "source": [
    "match = dot([input_encoded_m, question_encoded], axes=(2,2))\n",
    "match = Activation('softmax')(match)"
   ]
  },
  {
   "cell_type": "code",
   "execution_count": 72,
   "id": "e445cbf1",
   "metadata": {},
   "outputs": [],
   "source": [
    "response = add([match, input_encoded_c])\n",
    "response = Permute((2,1))(response)"
   ]
  },
  {
   "cell_type": "code",
   "execution_count": 73,
   "id": "f3606d8a",
   "metadata": {},
   "outputs": [],
   "source": [
    "answer = concatenate([response, question_encoded])"
   ]
  },
  {
   "cell_type": "code",
   "execution_count": 74,
   "id": "59f94eb9",
   "metadata": {},
   "outputs": [
    {
     "data": {
      "text/plain": [
       "<KerasTensor: shape=(None, 6, 220) dtype=float32 (created by layer 'concatenate_2')>"
      ]
     },
     "execution_count": 74,
     "metadata": {},
     "output_type": "execute_result"
    }
   ],
   "source": [
    "answer"
   ]
  },
  {
   "cell_type": "code",
   "execution_count": 75,
   "id": "e046ecfe",
   "metadata": {},
   "outputs": [],
   "source": [
    "answer = LSTM(32)(answer)"
   ]
  },
  {
   "cell_type": "code",
   "execution_count": 76,
   "id": "7485cab4",
   "metadata": {},
   "outputs": [],
   "source": [
    "answer = Dropout(0.5)(answer)\n",
    "answer = Dense(vocab_len)(answer) # (samples, vocab_size) # YES/NO"
   ]
  },
  {
   "cell_type": "code",
   "execution_count": 77,
   "id": "aab03692",
   "metadata": {},
   "outputs": [],
   "source": [
    "answer = Activation('softmax')(answer)"
   ]
  },
  {
   "cell_type": "code",
   "execution_count": 78,
   "id": "8f02f1a4",
   "metadata": {},
   "outputs": [],
   "source": [
    "model = Model([input_sequence, question], answer)"
   ]
  },
  {
   "cell_type": "code",
   "execution_count": 79,
   "id": "0127f74e",
   "metadata": {},
   "outputs": [],
   "source": [
    "model.compile(optimizer='rmsprop', loss='categorical_crossentropy', metrics=['accuracy'])"
   ]
  },
  {
   "cell_type": "code",
   "execution_count": 80,
   "id": "197dea04",
   "metadata": {},
   "outputs": [
    {
     "name": "stdout",
     "output_type": "stream",
     "text": [
      "Model: \"model_3\"\n",
      "__________________________________________________________________________________________________\n",
      " Layer (type)                   Output Shape         Param #     Connected to                     \n",
      "==================================================================================================\n",
      " input_5 (InputLayer)           [(None, 156)]        0           []                               \n",
      "                                                                                                  \n",
      " input_6 (InputLayer)           [(None, 6)]          0           []                               \n",
      "                                                                                                  \n",
      " sequential_7 (Sequential)      (None, None, 64)     2432        ['input_5[0][0]']                \n",
      "                                                                                                  \n",
      " sequential_9 (Sequential)      (None, 6, 64)        2432        ['input_6[0][0]']                \n",
      "                                                                                                  \n",
      " dot_2 (Dot)                    (None, 156, 6)       0           ['sequential_7[0][0]',           \n",
      "                                                                  'sequential_9[0][0]']           \n",
      "                                                                                                  \n",
      " activation_4 (Activation)      (None, 156, 6)       0           ['dot_2[0][0]']                  \n",
      "                                                                                                  \n",
      " sequential_8 (Sequential)      (None, None, 6)      228         ['input_5[0][0]']                \n",
      "                                                                                                  \n",
      " add_2 (Add)                    (None, 156, 6)       0           ['activation_4[0][0]',           \n",
      "                                                                  'sequential_8[0][0]']           \n",
      "                                                                                                  \n",
      " permute_2 (Permute)            (None, 6, 156)       0           ['add_2[0][0]']                  \n",
      "                                                                                                  \n",
      " concatenate_2 (Concatenate)    (None, 6, 220)       0           ['permute_2[0][0]',              \n",
      "                                                                  'sequential_9[0][0]']           \n",
      "                                                                                                  \n",
      " lstm_2 (LSTM)                  (None, 32)           32384       ['concatenate_2[0][0]']          \n",
      "                                                                                                  \n",
      " dropout_11 (Dropout)           (None, 32)           0           ['lstm_2[0][0]']                 \n",
      "                                                                                                  \n",
      " dense_2 (Dense)                (None, 38)           1254        ['dropout_11[0][0]']             \n",
      "                                                                                                  \n",
      " activation_5 (Activation)      (None, 38)           0           ['dense_2[0][0]']                \n",
      "                                                                                                  \n",
      "==================================================================================================\n",
      "Total params: 38,730\n",
      "Trainable params: 38,730\n",
      "Non-trainable params: 0\n",
      "__________________________________________________________________________________________________\n"
     ]
    }
   ],
   "source": [
    "model.summary()"
   ]
  },
  {
   "cell_type": "code",
   "execution_count": 81,
   "id": "b60c0dba",
   "metadata": {},
   "outputs": [
    {
     "name": "stdout",
     "output_type": "stream",
     "text": [
      "Epoch 1/150\n",
      "313/313 [==============================] - 4s 7ms/step - loss: 0.8932 - accuracy: 0.4886 - val_loss: 0.6946 - val_accuracy: 0.4970\n",
      "Epoch 2/150\n",
      "313/313 [==============================] - 2s 6ms/step - loss: 0.7044 - accuracy: 0.5027 - val_loss: 0.6963 - val_accuracy: 0.4970\n",
      "Epoch 3/150\n",
      "313/313 [==============================] - 2s 6ms/step - loss: 0.6972 - accuracy: 0.5012 - val_loss: 0.6935 - val_accuracy: 0.4970\n",
      "Epoch 4/150\n",
      "313/313 [==============================] - 2s 6ms/step - loss: 0.6960 - accuracy: 0.5022 - val_loss: 0.6932 - val_accuracy: 0.5030\n",
      "Epoch 5/150\n",
      "313/313 [==============================] - 2s 7ms/step - loss: 0.6960 - accuracy: 0.4947 - val_loss: 0.6949 - val_accuracy: 0.5030\n",
      "Epoch 6/150\n",
      "313/313 [==============================] - 2s 6ms/step - loss: 0.6955 - accuracy: 0.4952 - val_loss: 0.7023 - val_accuracy: 0.4970\n",
      "Epoch 7/150\n",
      "313/313 [==============================] - 2s 7ms/step - loss: 0.6953 - accuracy: 0.4976 - val_loss: 0.6932 - val_accuracy: 0.4970\n",
      "Epoch 8/150\n",
      "313/313 [==============================] - 3s 8ms/step - loss: 0.6957 - accuracy: 0.5026 - val_loss: 0.6941 - val_accuracy: 0.5030\n",
      "Epoch 9/150\n",
      "313/313 [==============================] - 3s 9ms/step - loss: 0.6951 - accuracy: 0.4985 - val_loss: 0.6951 - val_accuracy: 0.4970\n",
      "Epoch 10/150\n",
      "313/313 [==============================] - 3s 8ms/step - loss: 0.6956 - accuracy: 0.4925 - val_loss: 0.6940 - val_accuracy: 0.4970\n",
      "Epoch 11/150\n",
      "313/313 [==============================] - 3s 9ms/step - loss: 0.6953 - accuracy: 0.5034 - val_loss: 0.6931 - val_accuracy: 0.5160\n",
      "Epoch 12/150\n",
      "313/313 [==============================] - 3s 10ms/step - loss: 0.6951 - accuracy: 0.5065 - val_loss: 0.6931 - val_accuracy: 0.5030\n",
      "Epoch 13/150\n",
      "313/313 [==============================] - 3s 11ms/step - loss: 0.6951 - accuracy: 0.4914 - val_loss: 0.6933 - val_accuracy: 0.4970\n",
      "Epoch 14/150\n",
      "313/313 [==============================] - 3s 10ms/step - loss: 0.6954 - accuracy: 0.4980 - val_loss: 0.6953 - val_accuracy: 0.4970\n",
      "Epoch 15/150\n",
      "313/313 [==============================] - 3s 10ms/step - loss: 0.6953 - accuracy: 0.5006 - val_loss: 0.6943 - val_accuracy: 0.4970\n",
      "Epoch 16/150\n",
      "313/313 [==============================] - 3s 10ms/step - loss: 0.6954 - accuracy: 0.4992 - val_loss: 0.6935 - val_accuracy: 0.5030\n",
      "Epoch 17/150\n",
      "313/313 [==============================] - 3s 10ms/step - loss: 0.6952 - accuracy: 0.4993 - val_loss: 0.6939 - val_accuracy: 0.4970\n",
      "Epoch 18/150\n",
      "313/313 [==============================] - 3s 9ms/step - loss: 0.6945 - accuracy: 0.5058 - val_loss: 0.6996 - val_accuracy: 0.5030\n",
      "Epoch 19/150\n",
      "313/313 [==============================] - 3s 9ms/step - loss: 0.6957 - accuracy: 0.4982 - val_loss: 0.6931 - val_accuracy: 0.5030\n",
      "Epoch 20/150\n",
      "313/313 [==============================] - 3s 8ms/step - loss: 0.6947 - accuracy: 0.5059 - val_loss: 0.6932 - val_accuracy: 0.4970\n",
      "Epoch 21/150\n",
      "313/313 [==============================] - 3s 8ms/step - loss: 0.6954 - accuracy: 0.4948 - val_loss: 0.6933 - val_accuracy: 0.4970\n",
      "Epoch 22/150\n",
      "313/313 [==============================] - 3s 8ms/step - loss: 0.6953 - accuracy: 0.4990 - val_loss: 0.6937 - val_accuracy: 0.5030\n",
      "Epoch 23/150\n",
      "313/313 [==============================] - 3s 9ms/step - loss: 0.6948 - accuracy: 0.5012 - val_loss: 0.6956 - val_accuracy: 0.5030\n",
      "Epoch 24/150\n",
      "313/313 [==============================] - 3s 9ms/step - loss: 0.6953 - accuracy: 0.5008 - val_loss: 0.6951 - val_accuracy: 0.4970\n",
      "Epoch 25/150\n",
      "313/313 [==============================] - 3s 10ms/step - loss: 0.6951 - accuracy: 0.5002 - val_loss: 0.6938 - val_accuracy: 0.4970\n",
      "Epoch 26/150\n",
      "313/313 [==============================] - 3s 9ms/step - loss: 0.6948 - accuracy: 0.4971 - val_loss: 0.6933 - val_accuracy: 0.4970\n",
      "Epoch 27/150\n",
      "313/313 [==============================] - 3s 8ms/step - loss: 0.6946 - accuracy: 0.5113 - val_loss: 0.6932 - val_accuracy: 0.4970\n",
      "Epoch 28/150\n",
      "313/313 [==============================] - 3s 8ms/step - loss: 0.6949 - accuracy: 0.4978 - val_loss: 0.6944 - val_accuracy: 0.4970\n",
      "Epoch 29/150\n",
      "313/313 [==============================] - 3s 8ms/step - loss: 0.6949 - accuracy: 0.5075 - val_loss: 0.6931 - val_accuracy: 0.5070\n",
      "Epoch 30/150\n",
      "313/313 [==============================] - 2s 8ms/step - loss: 0.6948 - accuracy: 0.5001 - val_loss: 0.6974 - val_accuracy: 0.5030\n",
      "Epoch 31/150\n",
      "313/313 [==============================] - 2s 8ms/step - loss: 0.6953 - accuracy: 0.4942 - val_loss: 0.6936 - val_accuracy: 0.5030\n",
      "Epoch 32/150\n",
      "313/313 [==============================] - 3s 9ms/step - loss: 0.6951 - accuracy: 0.5028 - val_loss: 0.6953 - val_accuracy: 0.4970\n",
      "Epoch 33/150\n",
      "313/313 [==============================] - 3s 9ms/step - loss: 0.6951 - accuracy: 0.5001 - val_loss: 0.6968 - val_accuracy: 0.4970\n",
      "Epoch 34/150\n",
      "313/313 [==============================] - 3s 8ms/step - loss: 0.6942 - accuracy: 0.5088 - val_loss: 0.6938 - val_accuracy: 0.4970\n",
      "Epoch 35/150\n",
      "313/313 [==============================] - 3s 9ms/step - loss: 0.6949 - accuracy: 0.4982 - val_loss: 0.6934 - val_accuracy: 0.5030\n",
      "Epoch 36/150\n",
      "313/313 [==============================] - 3s 9ms/step - loss: 0.6946 - accuracy: 0.5058 - val_loss: 0.6943 - val_accuracy: 0.5030\n",
      "Epoch 37/150\n",
      "313/313 [==============================] - 3s 8ms/step - loss: 0.6949 - accuracy: 0.5046 - val_loss: 0.6941 - val_accuracy: 0.5030\n",
      "Epoch 38/150\n",
      "313/313 [==============================] - 3s 8ms/step - loss: 0.6949 - accuracy: 0.5021 - val_loss: 0.6932 - val_accuracy: 0.5030\n",
      "Epoch 39/150\n",
      "313/313 [==============================] - 3s 8ms/step - loss: 0.6952 - accuracy: 0.4991 - val_loss: 0.6932 - val_accuracy: 0.5030\n",
      "Epoch 40/150\n",
      "313/313 [==============================] - 3s 8ms/step - loss: 0.6953 - accuracy: 0.4963 - val_loss: 0.6932 - val_accuracy: 0.5030\n",
      "Epoch 41/150\n",
      "313/313 [==============================] - 3s 9ms/step - loss: 0.6946 - accuracy: 0.5056 - val_loss: 0.6947 - val_accuracy: 0.4970\n",
      "Epoch 42/150\n",
      "313/313 [==============================] - 3s 8ms/step - loss: 0.6947 - accuracy: 0.5027 - val_loss: 0.6932 - val_accuracy: 0.5040\n",
      "Epoch 43/150\n",
      "313/313 [==============================] - 3s 8ms/step - loss: 0.6952 - accuracy: 0.4970 - val_loss: 0.6937 - val_accuracy: 0.4970\n",
      "Epoch 44/150\n",
      "313/313 [==============================] - 3s 8ms/step - loss: 0.6945 - accuracy: 0.5061 - val_loss: 0.6937 - val_accuracy: 0.5030\n",
      "Epoch 45/150\n",
      "313/313 [==============================] - 3s 8ms/step - loss: 0.6947 - accuracy: 0.4999 - val_loss: 0.6932 - val_accuracy: 0.4980\n",
      "Epoch 46/150\n",
      "313/313 [==============================] - 3s 9ms/step - loss: 0.6948 - accuracy: 0.4997 - val_loss: 0.6957 - val_accuracy: 0.4970\n",
      "Epoch 47/150\n",
      "313/313 [==============================] - 3s 9ms/step - loss: 0.6946 - accuracy: 0.5078 - val_loss: 0.6935 - val_accuracy: 0.4970\n",
      "Epoch 48/150\n",
      "313/313 [==============================] - 3s 9ms/step - loss: 0.6943 - accuracy: 0.5018 - val_loss: 0.6940 - val_accuracy: 0.5040\n",
      "Epoch 49/150\n",
      "313/313 [==============================] - 3s 9ms/step - loss: 0.6942 - accuracy: 0.5100 - val_loss: 0.6935 - val_accuracy: 0.5010\n",
      "Epoch 50/150\n",
      "313/313 [==============================] - 3s 9ms/step - loss: 0.6943 - accuracy: 0.5063 - val_loss: 0.6944 - val_accuracy: 0.5020\n",
      "Epoch 51/150\n",
      "313/313 [==============================] - 3s 9ms/step - loss: 0.6940 - accuracy: 0.5078 - val_loss: 0.6936 - val_accuracy: 0.5020\n",
      "Epoch 52/150\n",
      "313/313 [==============================] - 3s 9ms/step - loss: 0.6940 - accuracy: 0.5107 - val_loss: 0.6973 - val_accuracy: 0.4870\n",
      "Epoch 53/150\n",
      "313/313 [==============================] - 3s 9ms/step - loss: 0.6925 - accuracy: 0.5257 - val_loss: 0.6941 - val_accuracy: 0.5040\n",
      "Epoch 54/150\n",
      "313/313 [==============================] - 3s 8ms/step - loss: 0.6924 - accuracy: 0.5203 - val_loss: 0.6954 - val_accuracy: 0.5010\n",
      "Epoch 55/150\n",
      "313/313 [==============================] - 3s 8ms/step - loss: 0.6909 - accuracy: 0.5271 - val_loss: 0.6940 - val_accuracy: 0.5130\n",
      "Epoch 56/150\n",
      "313/313 [==============================] - 3s 8ms/step - loss: 0.6890 - accuracy: 0.5300 - val_loss: 0.6872 - val_accuracy: 0.5260\n",
      "Epoch 57/150\n",
      "313/313 [==============================] - 3s 8ms/step - loss: 0.6822 - accuracy: 0.5484 - val_loss: 0.6766 - val_accuracy: 0.6000\n"
     ]
    },
    {
     "name": "stdout",
     "output_type": "stream",
     "text": [
      "Epoch 58/150\n",
      "313/313 [==============================] - 3s 9ms/step - loss: 0.6669 - accuracy: 0.5799 - val_loss: 0.6526 - val_accuracy: 0.6160\n",
      "Epoch 59/150\n",
      "313/313 [==============================] - 3s 8ms/step - loss: 0.6538 - accuracy: 0.6007 - val_loss: 0.6383 - val_accuracy: 0.6350\n",
      "Epoch 60/150\n",
      "313/313 [==============================] - 3s 8ms/step - loss: 0.6472 - accuracy: 0.6237 - val_loss: 0.6234 - val_accuracy: 0.6730\n",
      "Epoch 61/150\n",
      "313/313 [==============================] - 3s 8ms/step - loss: 0.6422 - accuracy: 0.6320 - val_loss: 0.6177 - val_accuracy: 0.6580\n",
      "Epoch 62/150\n",
      "313/313 [==============================] - 3s 8ms/step - loss: 0.6405 - accuracy: 0.6460 - val_loss: 0.6113 - val_accuracy: 0.6840\n",
      "Epoch 63/150\n",
      "313/313 [==============================] - 3s 8ms/step - loss: 0.6217 - accuracy: 0.6552 - val_loss: 0.5970 - val_accuracy: 0.6880\n",
      "Epoch 64/150\n",
      "313/313 [==============================] - 3s 8ms/step - loss: 0.6099 - accuracy: 0.6792 - val_loss: 0.5876 - val_accuracy: 0.7030\n",
      "Epoch 65/150\n",
      "313/313 [==============================] - 3s 10ms/step - loss: 0.6039 - accuracy: 0.6844 - val_loss: 0.5746 - val_accuracy: 0.7090\n",
      "Epoch 66/150\n",
      "313/313 [==============================] - 3s 9ms/step - loss: 0.5861 - accuracy: 0.7091 - val_loss: 0.5595 - val_accuracy: 0.7210\n",
      "Epoch 67/150\n",
      "313/313 [==============================] - 3s 9ms/step - loss: 0.5732 - accuracy: 0.7199 - val_loss: 0.5568 - val_accuracy: 0.7230\n",
      "Epoch 68/150\n",
      "313/313 [==============================] - 2s 8ms/step - loss: 0.5663 - accuracy: 0.7289 - val_loss: 0.5388 - val_accuracy: 0.7430\n",
      "Epoch 69/150\n",
      "313/313 [==============================] - 3s 8ms/step - loss: 0.5491 - accuracy: 0.7343 - val_loss: 0.5254 - val_accuracy: 0.7500\n",
      "Epoch 70/150\n",
      "313/313 [==============================] - 3s 8ms/step - loss: 0.5391 - accuracy: 0.7429 - val_loss: 0.5075 - val_accuracy: 0.7560\n",
      "Epoch 71/150\n",
      "313/313 [==============================] - 3s 9ms/step - loss: 0.5168 - accuracy: 0.7586 - val_loss: 0.4940 - val_accuracy: 0.7680\n",
      "Epoch 72/150\n",
      "313/313 [==============================] - 3s 9ms/step - loss: 0.5084 - accuracy: 0.7627 - val_loss: 0.4735 - val_accuracy: 0.7770\n",
      "Epoch 73/150\n",
      "313/313 [==============================] - 3s 8ms/step - loss: 0.4943 - accuracy: 0.7715 - val_loss: 0.4850 - val_accuracy: 0.7620\n",
      "Epoch 74/150\n",
      "313/313 [==============================] - 3s 11ms/step - loss: 0.4830 - accuracy: 0.7799 - val_loss: 0.4835 - val_accuracy: 0.7680\n",
      "Epoch 75/150\n",
      "313/313 [==============================] - 3s 8ms/step - loss: 0.4741 - accuracy: 0.7851 - val_loss: 0.4594 - val_accuracy: 0.7860\n",
      "Epoch 76/150\n",
      "313/313 [==============================] - 3s 8ms/step - loss: 0.4694 - accuracy: 0.7876 - val_loss: 0.4460 - val_accuracy: 0.8020\n",
      "Epoch 77/150\n",
      "313/313 [==============================] - 3s 8ms/step - loss: 0.4528 - accuracy: 0.8006 - val_loss: 0.4290 - val_accuracy: 0.8020\n",
      "Epoch 78/150\n",
      "313/313 [==============================] - 3s 8ms/step - loss: 0.4512 - accuracy: 0.8029 - val_loss: 0.4290 - val_accuracy: 0.8120\n",
      "Epoch 79/150\n",
      "313/313 [==============================] - 3s 9ms/step - loss: 0.4366 - accuracy: 0.8106 - val_loss: 0.4221 - val_accuracy: 0.8060\n",
      "Epoch 80/150\n",
      "313/313 [==============================] - 3s 8ms/step - loss: 0.4296 - accuracy: 0.8156 - val_loss: 0.4055 - val_accuracy: 0.8160\n",
      "Epoch 81/150\n",
      "313/313 [==============================] - 3s 10ms/step - loss: 0.4289 - accuracy: 0.8155 - val_loss: 0.4029 - val_accuracy: 0.8200\n",
      "Epoch 82/150\n",
      "313/313 [==============================] - 3s 9ms/step - loss: 0.4208 - accuracy: 0.8154 - val_loss: 0.3979 - val_accuracy: 0.8180\n",
      "Epoch 83/150\n",
      "313/313 [==============================] - 3s 8ms/step - loss: 0.4128 - accuracy: 0.8243 - val_loss: 0.4470 - val_accuracy: 0.8040\n",
      "Epoch 84/150\n",
      "313/313 [==============================] - 3s 8ms/step - loss: 0.4065 - accuracy: 0.8218 - val_loss: 0.4123 - val_accuracy: 0.8140\n",
      "Epoch 85/150\n",
      "313/313 [==============================] - 3s 8ms/step - loss: 0.3996 - accuracy: 0.8310 - val_loss: 0.3972 - val_accuracy: 0.8120\n",
      "Epoch 86/150\n",
      "313/313 [==============================] - 3s 8ms/step - loss: 0.3925 - accuracy: 0.8361 - val_loss: 0.4021 - val_accuracy: 0.8180\n",
      "Epoch 87/150\n",
      "313/313 [==============================] - 3s 8ms/step - loss: 0.3895 - accuracy: 0.8316 - val_loss: 0.4080 - val_accuracy: 0.8230\n",
      "Epoch 88/150\n",
      "313/313 [==============================] - 3s 9ms/step - loss: 0.3833 - accuracy: 0.8434 - val_loss: 0.4264 - val_accuracy: 0.8120\n",
      "Epoch 89/150\n",
      "313/313 [==============================] - 3s 8ms/step - loss: 0.3820 - accuracy: 0.8364 - val_loss: 0.3862 - val_accuracy: 0.8270\n",
      "Epoch 90/150\n",
      "313/313 [==============================] - 3s 8ms/step - loss: 0.3756 - accuracy: 0.8447 - val_loss: 0.3815 - val_accuracy: 0.8250\n",
      "Epoch 91/150\n",
      "313/313 [==============================] - 3s 8ms/step - loss: 0.3709 - accuracy: 0.8426 - val_loss: 0.4084 - val_accuracy: 0.8110\n",
      "Epoch 92/150\n",
      "313/313 [==============================] - 3s 8ms/step - loss: 0.3674 - accuracy: 0.8451 - val_loss: 0.4070 - val_accuracy: 0.8290\n",
      "Epoch 93/150\n",
      "313/313 [==============================] - 3s 8ms/step - loss: 0.3677 - accuracy: 0.8478 - val_loss: 0.3853 - val_accuracy: 0.8280\n",
      "Epoch 94/150\n",
      "313/313 [==============================] - 3s 9ms/step - loss: 0.3641 - accuracy: 0.8458 - val_loss: 0.4018 - val_accuracy: 0.8350\n",
      "Epoch 95/150\n",
      "313/313 [==============================] - 3s 8ms/step - loss: 0.3587 - accuracy: 0.8498 - val_loss: 0.3841 - val_accuracy: 0.8240\n",
      "Epoch 96/150\n",
      "313/313 [==============================] - 3s 8ms/step - loss: 0.3581 - accuracy: 0.8465 - val_loss: 0.3827 - val_accuracy: 0.8260\n",
      "Epoch 97/150\n",
      "313/313 [==============================] - 3s 8ms/step - loss: 0.3544 - accuracy: 0.8499 - val_loss: 0.3809 - val_accuracy: 0.8430\n",
      "Epoch 98/150\n",
      "313/313 [==============================] - 3s 8ms/step - loss: 0.3500 - accuracy: 0.8530 - val_loss: 0.3736 - val_accuracy: 0.8210\n",
      "Epoch 99/150\n",
      "313/313 [==============================] - 3s 8ms/step - loss: 0.3398 - accuracy: 0.8609 - val_loss: 0.3841 - val_accuracy: 0.8310\n",
      "Epoch 100/150\n",
      "313/313 [==============================] - 3s 9ms/step - loss: 0.3418 - accuracy: 0.8583 - val_loss: 0.3715 - val_accuracy: 0.8420\n",
      "Epoch 101/150\n",
      "313/313 [==============================] - 3s 8ms/step - loss: 0.3387 - accuracy: 0.8608 - val_loss: 0.4241 - val_accuracy: 0.8130\n",
      "Epoch 102/150\n",
      "313/313 [==============================] - 3s 8ms/step - loss: 0.3342 - accuracy: 0.8600 - val_loss: 0.3855 - val_accuracy: 0.8250\n",
      "Epoch 103/150\n",
      "313/313 [==============================] - 3s 8ms/step - loss: 0.3375 - accuracy: 0.8590 - val_loss: 0.3808 - val_accuracy: 0.8260\n",
      "Epoch 104/150\n",
      "313/313 [==============================] - 3s 8ms/step - loss: 0.3259 - accuracy: 0.8631 - val_loss: 0.3724 - val_accuracy: 0.8300\n",
      "Epoch 105/150\n",
      "313/313 [==============================] - 3s 8ms/step - loss: 0.3266 - accuracy: 0.8639 - val_loss: 0.3534 - val_accuracy: 0.8340\n",
      "Epoch 106/150\n",
      "313/313 [==============================] - 3s 9ms/step - loss: 0.3316 - accuracy: 0.8635 - val_loss: 0.3700 - val_accuracy: 0.8360\n",
      "Epoch 107/150\n",
      "313/313 [==============================] - 3s 8ms/step - loss: 0.3285 - accuracy: 0.8622 - val_loss: 0.3621 - val_accuracy: 0.8390\n",
      "Epoch 108/150\n",
      "313/313 [==============================] - 3s 8ms/step - loss: 0.3263 - accuracy: 0.8630 - val_loss: 0.3857 - val_accuracy: 0.8340\n",
      "Epoch 109/150\n",
      "313/313 [==============================] - 3s 8ms/step - loss: 0.3261 - accuracy: 0.8641 - val_loss: 0.3607 - val_accuracy: 0.8420\n",
      "Epoch 110/150\n",
      "313/313 [==============================] - 3s 8ms/step - loss: 0.3194 - accuracy: 0.8676 - val_loss: 0.3758 - val_accuracy: 0.8350\n",
      "Epoch 111/150\n",
      "313/313 [==============================] - 3s 8ms/step - loss: 0.3211 - accuracy: 0.8662 - val_loss: 0.3755 - val_accuracy: 0.8330\n",
      "Epoch 112/150\n",
      "313/313 [==============================] - 3s 9ms/step - loss: 0.3191 - accuracy: 0.8663 - val_loss: 0.3652 - val_accuracy: 0.8370\n",
      "Epoch 113/150\n",
      "313/313 [==============================] - 3s 8ms/step - loss: 0.3140 - accuracy: 0.8690 - val_loss: 0.3817 - val_accuracy: 0.8310\n",
      "Epoch 114/150\n",
      "313/313 [==============================] - 3s 8ms/step - loss: 0.3184 - accuracy: 0.8679 - val_loss: 0.3660 - val_accuracy: 0.8290\n"
     ]
    },
    {
     "name": "stdout",
     "output_type": "stream",
     "text": [
      "Epoch 115/150\n",
      "313/313 [==============================] - 3s 8ms/step - loss: 0.3119 - accuracy: 0.8711 - val_loss: 0.3685 - val_accuracy: 0.8280\n",
      "Epoch 116/150\n",
      "313/313 [==============================] - 3s 8ms/step - loss: 0.3179 - accuracy: 0.8681 - val_loss: 0.4084 - val_accuracy: 0.8260\n",
      "Epoch 117/150\n",
      "313/313 [==============================] - 3s 8ms/step - loss: 0.3122 - accuracy: 0.8721 - val_loss: 0.3809 - val_accuracy: 0.8370\n",
      "Epoch 118/150\n",
      "313/313 [==============================] - 3s 8ms/step - loss: 0.3135 - accuracy: 0.8678 - val_loss: 0.3616 - val_accuracy: 0.8330\n",
      "Epoch 119/150\n",
      "313/313 [==============================] - 3s 8ms/step - loss: 0.3138 - accuracy: 0.8662 - val_loss: 0.3684 - val_accuracy: 0.8380\n",
      "Epoch 120/150\n",
      "313/313 [==============================] - 3s 8ms/step - loss: 0.3099 - accuracy: 0.8669 - val_loss: 0.3727 - val_accuracy: 0.8380\n",
      "Epoch 121/150\n",
      "313/313 [==============================] - 3s 8ms/step - loss: 0.3089 - accuracy: 0.8720 - val_loss: 0.3954 - val_accuracy: 0.8300\n",
      "Epoch 122/150\n",
      "313/313 [==============================] - 3s 8ms/step - loss: 0.3062 - accuracy: 0.8738 - val_loss: 0.3657 - val_accuracy: 0.8300\n",
      "Epoch 123/150\n",
      "313/313 [==============================] - 3s 8ms/step - loss: 0.3000 - accuracy: 0.8753 - val_loss: 0.3938 - val_accuracy: 0.8280\n",
      "Epoch 124/150\n",
      "313/313 [==============================] - 3s 8ms/step - loss: 0.3037 - accuracy: 0.8737 - val_loss: 0.3745 - val_accuracy: 0.8300\n",
      "Epoch 125/150\n",
      "313/313 [==============================] - 3s 9ms/step - loss: 0.3022 - accuracy: 0.8756 - val_loss: 0.3690 - val_accuracy: 0.8310\n",
      "Epoch 126/150\n",
      "313/313 [==============================] - 3s 8ms/step - loss: 0.3018 - accuracy: 0.8773 - val_loss: 0.3958 - val_accuracy: 0.8330\n",
      "Epoch 127/150\n",
      "313/313 [==============================] - 3s 8ms/step - loss: 0.2935 - accuracy: 0.8811 - val_loss: 0.3977 - val_accuracy: 0.8330\n",
      "Epoch 128/150\n",
      "313/313 [==============================] - 3s 8ms/step - loss: 0.2988 - accuracy: 0.8751 - val_loss: 0.3636 - val_accuracy: 0.8370\n",
      "Epoch 129/150\n",
      "313/313 [==============================] - 3s 8ms/step - loss: 0.2946 - accuracy: 0.8799 - val_loss: 0.3608 - val_accuracy: 0.8300\n",
      "Epoch 130/150\n",
      "313/313 [==============================] - 3s 8ms/step - loss: 0.2974 - accuracy: 0.8774 - val_loss: 0.3814 - val_accuracy: 0.8340\n",
      "Epoch 131/150\n",
      "313/313 [==============================] - 3s 9ms/step - loss: 0.2958 - accuracy: 0.8768 - val_loss: 0.3800 - val_accuracy: 0.8300\n",
      "Epoch 132/150\n",
      "313/313 [==============================] - 3s 8ms/step - loss: 0.2916 - accuracy: 0.8814 - val_loss: 0.3791 - val_accuracy: 0.8370\n",
      "Epoch 133/150\n",
      "313/313 [==============================] - 3s 8ms/step - loss: 0.2921 - accuracy: 0.8790 - val_loss: 0.4295 - val_accuracy: 0.8220\n",
      "Epoch 134/150\n",
      "313/313 [==============================] - 3s 8ms/step - loss: 0.2951 - accuracy: 0.8803 - val_loss: 0.3836 - val_accuracy: 0.8390\n",
      "Epoch 135/150\n",
      "313/313 [==============================] - 3s 8ms/step - loss: 0.2955 - accuracy: 0.8746 - val_loss: 0.3939 - val_accuracy: 0.8350\n",
      "Epoch 136/150\n",
      "313/313 [==============================] - 3s 8ms/step - loss: 0.2863 - accuracy: 0.8750 - val_loss: 0.3937 - val_accuracy: 0.8350\n",
      "Epoch 137/150\n",
      "313/313 [==============================] - 3s 9ms/step - loss: 0.2862 - accuracy: 0.8818 - val_loss: 0.3916 - val_accuracy: 0.8370\n",
      "Epoch 138/150\n",
      "313/313 [==============================] - 3s 8ms/step - loss: 0.2886 - accuracy: 0.8816 - val_loss: 0.3750 - val_accuracy: 0.8360\n",
      "Epoch 139/150\n",
      "313/313 [==============================] - 3s 8ms/step - loss: 0.2879 - accuracy: 0.8797 - val_loss: 0.3728 - val_accuracy: 0.8350\n",
      "Epoch 140/150\n",
      "313/313 [==============================] - 3s 8ms/step - loss: 0.2847 - accuracy: 0.8811 - val_loss: 0.3999 - val_accuracy: 0.8310\n",
      "Epoch 141/150\n",
      "313/313 [==============================] - 3s 8ms/step - loss: 0.2850 - accuracy: 0.8832 - val_loss: 0.3843 - val_accuracy: 0.8220\n",
      "Epoch 142/150\n",
      "313/313 [==============================] - 3s 8ms/step - loss: 0.2828 - accuracy: 0.8838 - val_loss: 0.3993 - val_accuracy: 0.8260\n",
      "Epoch 143/150\n",
      "313/313 [==============================] - 3s 9ms/step - loss: 0.2772 - accuracy: 0.8855 - val_loss: 0.4021 - val_accuracy: 0.8280\n",
      "Epoch 144/150\n",
      "313/313 [==============================] - 3s 8ms/step - loss: 0.2781 - accuracy: 0.8833 - val_loss: 0.3802 - val_accuracy: 0.8340\n",
      "Epoch 145/150\n",
      "313/313 [==============================] - 3s 8ms/step - loss: 0.2791 - accuracy: 0.8850 - val_loss: 0.3800 - val_accuracy: 0.8240\n",
      "Epoch 146/150\n",
      "313/313 [==============================] - 3s 8ms/step - loss: 0.2848 - accuracy: 0.8840 - val_loss: 0.4091 - val_accuracy: 0.8310\n",
      "Epoch 147/150\n",
      "313/313 [==============================] - 3s 8ms/step - loss: 0.2760 - accuracy: 0.8865 - val_loss: 0.3865 - val_accuracy: 0.8230\n",
      "Epoch 148/150\n",
      "313/313 [==============================] - 3s 8ms/step - loss: 0.2750 - accuracy: 0.8887 - val_loss: 0.3900 - val_accuracy: 0.8350\n",
      "Epoch 149/150\n",
      "313/313 [==============================] - 3s 8ms/step - loss: 0.2706 - accuracy: 0.8896 - val_loss: 0.4650 - val_accuracy: 0.8260\n",
      "Epoch 150/150\n",
      "313/313 [==============================] - 3s 9ms/step - loss: 0.2748 - accuracy: 0.8890 - val_loss: 0.3850 - val_accuracy: 0.8280\n"
     ]
    }
   ],
   "source": [
    "history = model.fit([input_train, question_train],answers_train, batch_size=32, epochs=150, validation_data=([input_test,question_test],answers_test))"
   ]
  },
  {
   "cell_type": "code",
   "execution_count": 82,
   "id": "188f1a74",
   "metadata": {},
   "outputs": [],
   "source": [
    "#Saving the model\n",
    "model.save('chat_bot_e150.h5')"
   ]
  },
  {
   "cell_type": "code",
   "execution_count": 85,
   "id": "378410db",
   "metadata": {},
   "outputs": [
    {
     "name": "stdout",
     "output_type": "stream",
     "text": [
      "dict_keys(['loss', 'accuracy', 'val_loss', 'val_accuracy'])\n"
     ]
    },
    {
     "data": {
      "image/png": "[encoded data removed]",
      "text/plain": [
       "<Figure size 432x288 with 1 Axes>"
      ]
     },
     "metadata": {
      "needs_background": "light"
     },
     "output_type": "display_data"
    }
   ],
   "source": [
    "import matplotlib.pyplot as plt\n",
    "print(history.history.keys())\n",
    "# summarize history for accuracy\n",
    "plt.plot(history.history['accuracy'])\n",
    "plt.plot(history.history['val_accuracy'])\n",
    "plt.title('model accuracy')\n",
    "plt.ylabel('accuracy')\n",
    "plt.xlabel('epoch')\n",
    "plt.legend(['train', 'test'], loc='upper left')\n",
    "plt.show()"
   ]
  },
  {
   "cell_type": "markdown",
   "id": "417d418b",
   "metadata": {},
   "source": [
    "Evaluating on the given dataset"
   ]
  },
  {
   "cell_type": "code",
   "execution_count": 87,
   "id": "d365b6b8",
   "metadata": {},
   "outputs": [
    {
     "name": "stdout",
     "output_type": "stream",
     "text": [
      "32/32 [==============================] - 0s 2ms/step\n"
     ]
    }
   ],
   "source": [
    "model.load_weights('chat_bot_e150.h5')\n",
    "pred_results = model.predict(([input_test, question_test]))"
   ]
  },
  {
   "cell_type": "code",
   "execution_count": 88,
   "id": "d5ca4623",
   "metadata": {},
   "outputs": [
    {
     "name": "stdout",
     "output_type": "stream",
     "text": [
      "Mary got the milk there . John moved to the bedroom .\n"
     ]
    }
   ],
   "source": [
    "#Story\n",
    "print(' '.join(word for word in test_data[0][0]))"
   ]
  },
  {
   "cell_type": "code",
   "execution_count": 89,
   "id": "96533075",
   "metadata": {},
   "outputs": [
    {
     "name": "stdout",
     "output_type": "stream",
     "text": [
      "Is John in the kitchen ?\n"
     ]
    }
   ],
   "source": [
    "#Question\n",
    "print(' '.join(word for word in test_data[0][1]))"
   ]
  },
  {
   "cell_type": "code",
   "execution_count": 90,
   "id": "78e8c79a",
   "metadata": {},
   "outputs": [
    {
     "name": "stdout",
     "output_type": "stream",
     "text": [
      "True Test Answer from Data is: no\n"
     ]
    }
   ],
   "source": [
    "#Answer from the dataset\n",
    "print(\"True Test Answer from Data is:\",test_data[0][2])"
   ]
  },
  {
   "cell_type": "code",
   "execution_count": 91,
   "id": "e7a90254",
   "metadata": {},
   "outputs": [
    {
     "name": "stdout",
     "output_type": "stream",
     "text": [
      "Predicted answer is:  no\n",
      "Probability of certainty was:  0.9987643\n"
     ]
    }
   ],
   "source": [
    "#Generate prediction from model\n",
    "val_max = np.argmax(pred_results[0])\n",
    "\n",
    "for key, val in tokenizer.word_index.items():\n",
    "    if val == val_max:\n",
    "        k = key\n",
    "\n",
    "print(\"Predicted answer is: \", k)\n",
    "print(\"Probability of certainty was: \", pred_results[0][val_max])"
   ]
  },
  {
   "cell_type": "markdown",
   "id": "c38a9653",
   "metadata": {},
   "source": [
    "# Writing own stories and question"
   ]
  },
  {
   "cell_type": "code",
   "execution_count": 92,
   "id": "25f301f8",
   "metadata": {},
   "outputs": [],
   "source": [
    "st = \"John left the kitchen . Sandra dropped the football in the garden .\"\n",
    "qs = \"Is the football in the garden ?\"\n",
    "mydata = [(st.split(),qs.split(),'yes')]"
   ]
  },
  {
   "cell_type": "code",
   "execution_count": 93,
   "id": "f72a7f0b",
   "metadata": {},
   "outputs": [],
   "source": [
    "my_story,my_ques,my_ans = vectorize(mydata)"
   ]
  },
  {
   "cell_type": "code",
   "execution_count": 94,
   "id": "a66291a0",
   "metadata": {},
   "outputs": [
    {
     "name": "stdout",
     "output_type": "stream",
     "text": [
      "1/1 [==============================] - 0s 18ms/step\n"
     ]
    }
   ],
   "source": [
    "pred_results = model.predict(([ my_story, my_ques]))"
   ]
  },
  {
   "cell_type": "code",
   "execution_count": 95,
   "id": "4b56f6fd",
   "metadata": {},
   "outputs": [
    {
     "name": "stdout",
     "output_type": "stream",
     "text": [
      "Predicted answer is:  yes\n",
      "Probability of certainty was:  0.98056084\n"
     ]
    }
   ],
   "source": [
    "#Generate prediction from model\n",
    "val_max = np.argmax(pred_results[0])\n",
    "\n",
    "for key, val in tokenizer.word_index.items():\n",
    "    if val == val_max:\n",
    "        k = key\n",
    "\n",
    "print(\"Predicted answer is: \", k)\n",
    "print(\"Probability of certainty was: \", pred_results[0][val_max])"
   ]
  }
 ],
 "metadata": {
  "kernelspec": {
   "display_name": "Python 3 (ipykernel)",
   "language": "python",
   "name": "python3"
  },
  "language_info": {
   "codemirror_mode": {
    "name": "ipython",
    "version": 3
   },
   "file_extension": ".py",
   "mimetype": "text/x-python",
   "name": "python",
   "nbconvert_exporter": "python",
   "pygments_lexer": "ipython3",
   "version": "3.9.12"
  }
 },
 "nbformat": 4,
 "nbformat_minor": 5
}
