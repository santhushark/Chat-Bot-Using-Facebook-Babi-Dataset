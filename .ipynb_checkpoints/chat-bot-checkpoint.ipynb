{
 "cells": [
  {
   "cell_type": "code",
   "execution_count": 1,
   "id": "bdf7debb",
   "metadata": {},
   "outputs": [],
   "source": [
    "import pickle\n",
    "import numpy as np"
   ]
  },
  {
   "cell_type": "code",
   "execution_count": 2,
   "id": "1bd4f758",
   "metadata": {},
   "outputs": [],
   "source": [
    "with open('../Chat-bot-using-Babi-Dataset/Dataset/train_qa.txt', 'rb') as f:\n",
    "    train_data = pickle.load(f)"
   ]
  },
  {
   "cell_type": "code",
   "execution_count": 3,
   "id": "b7536901",
   "metadata": {},
   "outputs": [],
   "source": [
    "with open('../Chat-bot-using-Babi-Dataset/Dataset/test_qa.txt', 'rb') as f:\n",
    "    test_data = pickle.load(f)"
   ]
  },
  {
   "cell_type": "markdown",
   "id": "f1304237",
   "metadata": {},
   "source": [
    "train_data and test_data is a list of datapoints for training and testing the model. It is basically a list of tuples. And each of the tuples hold again a list of story question and answer."
   ]
  },
  {
   "cell_type": "markdown",
   "id": "7b3c22c3",
   "metadata": {},
   "source": [
    "CREATING A VOCABULARY. Here we create a vocabulary using both training and test datasets."
   ]
  },
  {
   "cell_type": "code",
   "execution_count": 4,
   "id": "660a4923",
   "metadata": {},
   "outputs": [],
   "source": [
    "all_data = train_data + test_data\n",
    "\n",
    "vocab = set()\n",
    "\n",
    "for story, question, answer in all_data:\n",
    "    vocab = vocab.union(set(story))\n",
    "    vocab = vocab.union(set(question))\n",
    "\n",
    "vocab.add('no')\n",
    "vocab.add('yes')"
   ]
  },
  {
   "cell_type": "code",
   "execution_count": 6,
   "id": "3962a752",
   "metadata": {},
   "outputs": [],
   "source": [
    "# We need this little place holder for later when we create pad sequences\n",
    "vocab_len = len(vocab) + 1"
   ]
  },
  {
   "cell_type": "code",
   "execution_count": 8,
   "id": "3e34ed11",
   "metadata": {},
   "outputs": [],
   "source": [
    "# Longest story, we need this for padding our sequences\n",
    "all_story_lens = [len(data[0]) for data in all_data]\n",
    "max_story_len = max(all_story_lens)"
   ]
  },
  {
   "cell_type": "code",
   "execution_count": 9,
   "id": "e7e671ac",
   "metadata": {},
   "outputs": [],
   "source": [
    "# Longest question\n",
    "max_question_len = max([len(data[1]) for data in all_data])"
   ]
  },
  {
   "cell_type": "markdown",
   "id": "5927bcb6",
   "metadata": {},
   "source": [
    "Vectorizing the data"
   ]
  },
  {
   "cell_type": "code",
   "execution_count": 13,
   "id": "4cc7a67e",
   "metadata": {},
   "outputs": [],
   "source": [
    "from keras.utils.data_utils import pad_sequences\n",
    "from keras.preprocessing.text import Tokenizer"
   ]
  },
  {
   "cell_type": "code",
   "execution_count": 16,
   "id": "3608c1dd",
   "metadata": {},
   "outputs": [
    {
     "data": {
      "text/plain": [
       "{'is': 1,\n",
       " 'daniel': 2,\n",
       " 'garden': 3,\n",
       " 'john': 4,\n",
       " 'milk': 5,\n",
       " 'bathroom': 6,\n",
       " 'hallway': 7,\n",
       " 'went': 8,\n",
       " 'grabbed': 9,\n",
       " 'yes': 10,\n",
       " 'left': 11,\n",
       " 'dropped': 12,\n",
       " 'the': 13,\n",
       " 'back': 14,\n",
       " 'kitchen': 15,\n",
       " 'picked': 16,\n",
       " 'journeyed': 17,\n",
       " 'up': 18,\n",
       " 'sandra': 19,\n",
       " 'took': 20,\n",
       " 'football': 21,\n",
       " '?': 22,\n",
       " 'down': 23,\n",
       " 'office': 24,\n",
       " 'to': 25,\n",
       " 'moved': 26,\n",
       " '.': 27,\n",
       " 'there': 28,\n",
       " 'no': 29,\n",
       " 'bedroom': 30,\n",
       " 'mary': 31,\n",
       " 'travelled': 32,\n",
       " 'got': 33,\n",
       " 'apple': 34,\n",
       " 'put': 35,\n",
       " 'in': 36,\n",
       " 'discarded': 37}"
      ]
     },
     "execution_count": 16,
     "metadata": {},
     "output_type": "execute_result"
    }
   ],
   "source": [
    "tokenizer = Tokenizer(filters=[])\n",
    "tokenizer.fit_on_texts(vocab)\n",
    "tokenizer.word_index"
   ]
  },
  {
   "cell_type": "code",
   "execution_count": 19,
   "id": "69c3bfde",
   "metadata": {},
   "outputs": [],
   "source": [
    "def vectorize(data, word_index = tokenizer.word_index, max_story_len = max_story_len, max_question_len =max_question_len):\n",
    "    # Stories X\n",
    "    X = []\n",
    "    # Question Xq\n",
    "    Xq = []\n",
    "    # Y Correct Answer (yes/no)\n",
    "    Y= []\n",
    "    \n",
    "    for story, question, answer in data:\n",
    "        x = [word_index[word.lower()] for word in story]\n",
    "        xq = [word_index[word.lower()] for word in question]\n",
    "        \n",
    "        # +1 is reserved for padding\n",
    "        y = np.zeros(len(word_index)+1)\n",
    "        \n",
    "        y[word_index[answer]] = 1\n",
    "        \n",
    "        X.append(x)\n",
    "        Xq.append(xq)\n",
    "        Y.append(y)\n",
    "        \n",
    "    return (pad_sequences(X, maxlen = max_story_len), pad_sequences(Xq, maxlen = max_question_len), np.array(Y))"
   ]
  },
  {
   "cell_type": "code",
   "execution_count": 20,
   "id": "793e3f47",
   "metadata": {},
   "outputs": [],
   "source": [
    "input_train, question_train, answers_train = vectorize(train_data)\n",
    "input_test, question_test, answers_test = vectorize(test_data)"
   ]
  },
  {
   "cell_type": "code",
   "execution_count": null,
   "id": "501b87f5",
   "metadata": {},
   "outputs": [],
   "source": []
  }
 ],
 "metadata": {
  "kernelspec": {
   "display_name": "Python 3 (ipykernel)",
   "language": "python",
   "name": "python3"
  },
  "language_info": {
   "codemirror_mode": {
    "name": "ipython",
    "version": 3
   },
   "file_extension": ".py",
   "mimetype": "text/x-python",
   "name": "python",
   "nbconvert_exporter": "python",
   "pygments_lexer": "ipython3",
   "version": "3.9.12"
  }
 },
 "nbformat": 4,
 "nbformat_minor": 5
}
